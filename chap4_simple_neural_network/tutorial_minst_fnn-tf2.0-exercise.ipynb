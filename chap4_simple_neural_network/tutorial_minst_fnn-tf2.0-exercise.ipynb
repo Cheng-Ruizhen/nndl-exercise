{
 "cells": [
  {
   "cell_type": "markdown",
   "metadata": {},
   "source": [
    "## 准备数据"
   ]
  },
  {
   "cell_type": "code",
   "execution_count": 1,
   "metadata": {},
   "outputs": [],
   "source": [
    "import os\n",
    "import numpy as np\n",
    "import tensorflow as tf\n",
    "from tensorflow import keras\n",
    "from tensorflow.keras import layers, optimizers, datasets\n",
    "\n",
    "os.environ['TF_CPP_MIN_LOG_LEVEL'] = '2'  # or any {'0', '1', '2'}\n",
    "\n",
    "def mnist_dataset():\n",
    "    (x, y), (x_test, y_test) = datasets.mnist.load_data()\n",
    "    #normalize\n",
    "    x = x/255.0\n",
    "    x_test = x_test/255.0\n",
    "    \n",
    "    return (x, y), (x_test, y_test)"
   ]
  },
  {
   "cell_type": "code",
   "execution_count": 2,
   "metadata": {},
   "outputs": [
    {
     "name": "stdout",
     "output_type": "stream",
     "text": [
      "[(1, 'a'), (2, 'b'), (3, 'c'), (4, 'd')]\n"
     ]
    }
   ],
   "source": [
    "print(list(zip([1, 2, 3, 4], ['a', 'b', 'c', 'd'])))"
   ]
  },
  {
   "cell_type": "markdown",
   "metadata": {},
   "source": [
    "## 建立模型"
   ]
  },
  {
   "cell_type": "code",
   "execution_count": 34,
   "metadata": {},
   "outputs": [],
   "source": [
    "class myModel:\n",
    "    def __init__(self):\n",
    "        ####################\n",
    "        '''声明模型对应的参数'''\n",
    "        ####################\n",
    "        self.W1 = tf.Variable(shape=[28 * 28, 256], dtype=tf.float32, \n",
    "            initial_value=tf.random.uniform(shape=[28 * 28, 256], minval=-1, maxval=1))\n",
    "        self.b1 = tf.Variable(shape=[256], dtype=tf.float32, initial_value=tf.zeros(shape=[256]))\n",
    "\n",
    "        self.W2 = tf.Variable(shape=[256, 10], dtype=tf.float32, \n",
    "            initial_value=tf.random.uniform(shape=[256, 10], minval=-1, maxval=1))\n",
    "        self.b2 = tf.Variable(shape=[10], dtype=tf.float32, initial_value=tf.zeros(shape=[10]))\n",
    "    def __call__(self, x):\n",
    "        ####################\n",
    "        '''实现模型函数体，返回未归一化的logits'''\n",
    "        ####################\n",
    "        x = tf.reshape(x, [x.shape[0], -1])\n",
    "        logits = tf.matmul(tf.matmul(x, self.W1) + self.b1, self.W2) + self.b2\n",
    "        return logits\n",
    "        \n",
    "model = myModel()\n",
    "\n",
    "optimizer = optimizers.Adam()"
   ]
  },
  {
   "cell_type": "markdown",
   "metadata": {},
   "source": [
    "## 计算 loss"
   ]
  },
  {
   "cell_type": "code",
   "execution_count": 35,
   "metadata": {},
   "outputs": [],
   "source": [
    "@tf.function\n",
    "def compute_loss(logits, labels):\n",
    "    return tf.reduce_mean(\n",
    "        tf.nn.sparse_softmax_cross_entropy_with_logits(\n",
    "            logits=logits, labels=labels))\n",
    "\n",
    "@tf.function\n",
    "def compute_accuracy(logits, labels):\n",
    "    predictions = tf.argmax(logits, axis=1)\n",
    "    return tf.reduce_mean(tf.cast(tf.equal(predictions, labels), tf.float32))\n",
    "\n",
    "@tf.function\n",
    "def train_one_step(model, optimizer, x, y):\n",
    "    with tf.GradientTape() as tape:\n",
    "        logits = model(x)\n",
    "        loss = compute_loss(logits, y)\n",
    "\n",
    "    # compute gradient\n",
    "    trainable_vars = [model.W1, model.W2, model.b1, model.b2]\n",
    "    grads = tape.gradient(loss, trainable_vars)\n",
    "    for g, v in zip(grads, trainable_vars):\n",
    "        v.assign_sub(0.01*g)\n",
    "\n",
    "    accuracy = compute_accuracy(logits, y)\n",
    "\n",
    "    # loss and accuracy is scalar tensor\n",
    "    return loss, accuracy\n",
    "\n",
    "@tf.function\n",
    "def test(model, x, y):\n",
    "    logits = model(x)\n",
    "    loss = compute_loss(logits, y)\n",
    "    accuracy = compute_accuracy(logits, y)\n",
    "    return loss, accuracy"
   ]
  },
  {
   "cell_type": "markdown",
   "metadata": {},
   "source": [
    "## 实际训练"
   ]
  },
  {
   "cell_type": "code",
   "execution_count": 36,
   "metadata": {},
   "outputs": [
    {
     "name": "stdout",
     "output_type": "stream",
     "text": [
      "epoch 0 : loss 75.36055 ; accuracy 0.09055\n",
      "epoch 1 : loss 64.98107 ; accuracy 0.104483336\n",
      "epoch 2 : loss 59.440815 ; accuracy 0.118483335\n",
      "epoch 3 : loss 55.158707 ; accuracy 0.13143334\n",
      "epoch 4 : loss 51.60824 ; accuracy 0.14291666\n",
      "epoch 5 : loss 48.576275 ; accuracy 0.15325\n",
      "epoch 6 : loss 45.930542 ; accuracy 0.16386667\n",
      "epoch 7 : loss 43.552586 ; accuracy 0.17425\n",
      "epoch 8 : loss 41.365643 ; accuracy 0.18328333\n",
      "epoch 9 : loss 39.328133 ; accuracy 0.19361667\n",
      "epoch 10 : loss 37.423466 ; accuracy 0.2028\n",
      "epoch 11 : loss 35.646027 ; accuracy 0.21228333\n",
      "epoch 12 : loss 33.99663 ; accuracy 0.22201666\n",
      "epoch 13 : loss 32.470554 ; accuracy 0.23285\n",
      "epoch 14 : loss 31.063696 ; accuracy 0.24441667\n",
      "epoch 15 : loss 29.77233 ; accuracy 0.25661665\n",
      "epoch 16 : loss 28.58848 ; accuracy 0.26926666\n",
      "epoch 17 : loss 27.503826 ; accuracy 0.28351668\n",
      "epoch 18 : loss 26.507408 ; accuracy 0.29625\n",
      "epoch 19 : loss 25.58791 ; accuracy 0.30965\n",
      "epoch 20 : loss 24.736729 ; accuracy 0.32193333\n",
      "epoch 21 : loss 23.946419 ; accuracy 0.33445\n",
      "epoch 22 : loss 23.211313 ; accuracy 0.34615\n",
      "epoch 23 : loss 22.526524 ; accuracy 0.35768333\n",
      "epoch 24 : loss 21.886984 ; accuracy 0.36836666\n",
      "epoch 25 : loss 21.287928 ; accuracy 0.37835\n",
      "epoch 26 : loss 20.726095 ; accuracy 0.38763332\n",
      "epoch 27 : loss 20.19846 ; accuracy 0.39788333\n",
      "epoch 28 : loss 19.70271 ; accuracy 0.4082\n",
      "epoch 29 : loss 19.235683 ; accuracy 0.4169\n",
      "epoch 30 : loss 18.794376 ; accuracy 0.42538333\n",
      "epoch 31 : loss 18.37692 ; accuracy 0.43395\n",
      "epoch 32 : loss 17.9815 ; accuracy 0.44141668\n",
      "epoch 33 : loss 17.60632 ; accuracy 0.44873333\n",
      "epoch 34 : loss 17.24959 ; accuracy 0.45595\n",
      "epoch 35 : loss 16.909777 ; accuracy 0.4627\n",
      "epoch 36 : loss 16.585627 ; accuracy 0.46931666\n",
      "epoch 37 : loss 16.275997 ; accuracy 0.47553334\n",
      "epoch 38 : loss 15.979846 ; accuracy 0.48118332\n",
      "epoch 39 : loss 15.696197 ; accuracy 0.48728332\n",
      "epoch 40 : loss 15.424267 ; accuracy 0.49273333\n",
      "epoch 41 : loss 15.163326 ; accuracy 0.49806666\n",
      "epoch 42 : loss 14.912615 ; accuracy 0.5032167\n",
      "epoch 43 : loss 14.6714945 ; accuracy 0.50841665\n",
      "epoch 44 : loss 14.439417 ; accuracy 0.5133\n",
      "epoch 45 : loss 14.215923 ; accuracy 0.5178667\n",
      "epoch 46 : loss 14.000619 ; accuracy 0.5223333\n",
      "epoch 47 : loss 13.793111 ; accuracy 0.5271\n",
      "epoch 48 : loss 13.592923 ; accuracy 0.5314\n",
      "epoch 49 : loss 13.399569 ; accuracy 0.53555\n",
      "test loss 12.355146 ; accuracy 0.562\n"
     ]
    }
   ],
   "source": [
    "train_data, test_data = mnist_dataset()\n",
    "for epoch in range(50):\n",
    "    loss, accuracy = train_one_step(model, optimizer, \n",
    "                                    tf.constant(train_data[0], dtype=tf.float32), \n",
    "                                    tf.constant(train_data[1], dtype=tf.int64))\n",
    "    print('epoch', epoch, ': loss', loss.numpy(), '; accuracy', accuracy.numpy())\n",
    "loss, accuracy = test(model, \n",
    "                      tf.constant(test_data[0], dtype=tf.float32), \n",
    "                      tf.constant(test_data[1], dtype=tf.int64))\n",
    "\n",
    "print('test loss', loss.numpy(), '; accuracy', accuracy.numpy())"
   ]
  }
 ],
 "metadata": {
  "kernelspec": {
   "display_name": "Python 3",
   "language": "python",
   "name": "python3"
  },
  "language_info": {
   "codemirror_mode": {
    "name": "ipython",
    "version": 3
   },
   "file_extension": ".py",
   "mimetype": "text/x-python",
   "name": "python",
   "nbconvert_exporter": "python",
   "pygments_lexer": "ipython3",
   "version": "3.10.5"
  }
 },
 "nbformat": 4,
 "nbformat_minor": 2
}
